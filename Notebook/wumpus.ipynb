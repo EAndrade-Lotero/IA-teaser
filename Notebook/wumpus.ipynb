{
 "cells": [
  {
   "cell_type": "markdown",
   "metadata": {},
   "source": [
    "<table>\n",
    "    <tr>\n",
    "        <td><img src=\"./imagenes/Macc.png\" width=\"400\"/></td>\n",
    "        <td>&nbsp;</td>\n",
    "        <td>\n",
    "                <h1 style=\"color:blue;text-align:left\">Lógica e Inteligencia Artificial</h1>\n",
    "        </td>\n",
    "    </tr>\n",
    "</table>\n",
    "\n",
    "---"
   ]
  },
  {
   "cell_type": "markdown",
   "metadata": {
    "colab_type": "text",
    "id": "TpmFfXsQ0dYI"
   },
   "source": [
    "# El mundo del Wumpus\n",
    "\n",
    "Adaptado de Russell & Norvig (2016)."
   ]
  },
  {
   "cell_type": "markdown",
   "metadata": {
    "colab_type": "text",
    "id": "V3SkDSWJ0dYJ"
   },
   "source": [
    "## Objetivo\n",
    "\n",
    "En este notebook presentaremos algunos aspectos importantes de la arquitectura necesaria para enfrentar el reto de encontrar el oro en la cueva del Wumpus (sin morir en el intento).\n",
    "\n",
    "## El mundo del Wumpus\n",
    "\n",
    "El siguiente problema se conoce como *El mundo del Wumpus* (Yob, 1975), el cual consiste en una caverna muy oscura, representada por una rejilla de $4\\times 4$ rodeada de muros. El agente puede entrar y salir de la caberna por la casilla (0,0) y puede percibir solamente lo que hay en cada casilla en la que se encuentre. En la cueva hay pozos muy profundos, en los que puede caer y morir. Lo peor de todo es que hay un mounstro, conocido como el Wumpus, el cual se comerá vivo al agente si este entra a su casilla. ¿Por qué el agente entraría a un lugar como este? ¡Porque en alguna casilla de la cueva hay un montón de oro!\n",
    "\n",
    "<img src=\"./imagenes/ejemplo.png\" width=\"250\">\n",
    "\n",
    "El agente puede guiarse por sus sentidos para navegar en la caberna. En cualquier casilla adyacente (no diagonalmente) a un pozo se percibe una brisa; en cualquier casilla adyacente (no diagonalmente) al Wumpus se percibe un hedor; en la casilla donde se encuentra el oro se percibe un brillo. Además, el agente tiene un arco y (lamentablemente) solo una flecha, con la cual puede matar al Wumpus. Cuando se dispare la flecha, esta seguirá en la dirección en que esté mirando el agente hasta golpear un muro o clavarse en el Wumpus, quien morirá arrojando un desgarrador grito \"Aaaaaaarrrrgghhhhh\"."
   ]
  },
  {
   "cell_type": "markdown",
   "metadata": {},
   "source": [
    "## Implementación del entorno"
   ]
  },
  {
   "cell_type": "code",
   "execution_count": 9,
   "metadata": {},
   "outputs": [],
   "source": [
    "import time\n",
    "from IPython.display import clear_output\n",
    "from Wumpus import *\n",
    "%matplotlib inline"
   ]
  },
  {
   "cell_type": "code",
   "execution_count": 17,
   "metadata": {},
   "outputs": [
    {
     "data": {
      "text/plain": [
       "[None, None, None, None, None]"
      ]
     },
     "execution_count": 17,
     "metadata": {},
     "output_type": "execute_result"
    },
    {
     "data": {
      "image/png": "[encoded data removed]",
      "text/plain": [
       "<Figure size 576x576 with 1 Axes>"
      ]
     },
     "metadata": {
      "needs_background": "light"
     },
     "output_type": "display_data"
    }
   ],
   "source": [
    "W = wumpus()\n",
    "W.pintar_casilla()\n",
    "W.percibir()"
   ]
  },
  {
   "cell_type": "code",
   "execution_count": 19,
   "metadata": {},
   "outputs": [
    {
     "data": {
      "text/plain": [
       "[None, None, None, None, None]"
      ]
     },
     "execution_count": 19,
     "metadata": {},
     "output_type": "execute_result"
    },
    {
     "data": {
      "image/png": "[encoded data removed]",
      "text/plain": [
       "<Figure size 576x576 with 1 Axes>"
      ]
     },
     "metadata": {
      "needs_background": "light"
     },
     "output_type": "display_data"
    }
   ],
   "source": [
    "W.transicion('voltearIzquierda')\n",
    "W.transicion('adelante')\n",
    "W.pintar_casilla()\n",
    "W.percibir()"
   ]
  },
  {
   "cell_type": "markdown",
   "metadata": {},
   "source": [
    "## Planeación de rutas\n",
    "\n",
    "Uno de los problemas que debe resolver el agente es generar un mapa mental para poder transitar por la caverna. Este mapa mental debe mostrar qué casillas son seguras para pararse en ellas, entre otras cosas.\n",
    "\n",
    "Además del mapa mental, el agente debe poder utilizarlo para transitar por la caverna sin caer en un pozo o en las fauces del Wumpus. También es importante que pueda trazar una ruta para que, cuando encuentre el oro, pueda devolverse a la salida (casilla inicial) y disfrutar de su botín. Así pues, el primer problema que consideraremos es el de planear una ruta en el mapa mental para ir de un punto $A$, en el cual se está actualmente, a un punto $B$ que se desea acceder. \n",
    "\n",
    "En este punto asumiremos que tenemos una lista de casillas seguras para transitar. Más adelante volveremos sobre cómo obtener dicha lista a partir de la información perceptual que el agente va obteniendo a medida que transita por la caverna."
   ]
  },
  {
   "cell_type": "markdown",
   "metadata": {},
   "source": [
    "Se inicializa el objeto de búsqueda en la rejilla:"
   ]
  },
  {
   "cell_type": "code",
   "execution_count": 20,
   "metadata": {
    "colab": {},
    "colab_type": "code",
    "id": "Ag4i7XTQ0dYk",
    "outputId": "beac631a-6a24-45fc-a168-f45272817293"
   },
   "outputs": [
    {
     "name": "stdout",
     "output_type": "stream",
     "text": [
      "Estado inicial: (2, 2)\n",
      "Estado objetivo: (0, 0)\n",
      "Movimientos posibles en (2,2): [(3, 2), (2, 1)]\n"
     ]
    }
   ],
   "source": [
    "seguras = [(0,0), (0,1), (1,1), (2,1), (2,0), (2,2), (3,2)] \n",
    "R = planeadorRuta((2,2), (0,0) , seguras)\n",
    "print(\"Estado inicial:\", R.estado_inicial)\n",
    "print(\"Estado objetivo:\", R.estado_objetivo)\n",
    "print(\"Movimientos posibles en (2,2):\", R.acciones_aplicables((2,2)))"
   ]
  },
  {
   "cell_type": "code",
   "execution_count": 21,
   "metadata": {},
   "outputs": [
    {
     "name": "stdout",
     "output_type": "stream",
     "text": [
      "El camino a seguir es: [(2, 2), (2, 1), (1, 1), (0, 1), (0, 0)]\n",
      "Acciones a ejecutar: ['voltearDerecha', 'adelante', 'voltearDerecha', 'adelante', 'adelante', 'voltearIzquierda', 'adelante']\n"
     ]
    }
   ],
   "source": [
    "camino = A_star_search(R)\n",
    "camino = [(2,2)] + solucion(camino)\n",
    "acciones = acciones_camino(camino, 'este')\n",
    "print(\"El camino a seguir es:\", camino)\n",
    "print(\"Acciones a ejecutar:\", acciones)"
   ]
  },
  {
   "cell_type": "code",
   "execution_count": 23,
   "metadata": {},
   "outputs": [
    {
     "data": {
      "image/png": "[encoded data removed]",
      "text/plain": [
       "<Figure size 576x576 with 1 Axes>"
      ]
     },
     "metadata": {
      "needs_background": "light"
     },
     "output_type": "display_data"
    }
   ],
   "source": [
    "W = wumpus(agente_inicia_en=(2,2), vacio=True)\n",
    "for accion in acciones:\n",
    "    clear_output(wait=True)\n",
    "    W.transicion(accion)\n",
    "    W.pintar_casilla()\n",
    "    plt.show()\n",
    "    time.sleep(1)"
   ]
  },
  {
   "cell_type": "markdown",
   "metadata": {},
   "source": [
    "---"
   ]
  },
  {
   "cell_type": "markdown",
   "metadata": {},
   "source": [
    "## Representación del mundo y Toma de decisiones\n",
    "\n",
    "Para completar una arquitectura de agente funcional para enfrentar el mundo del Wumpus aún faltan muchos pasos. Es necesario usar la lógica para representar el conocimiento que tiene el agente sobre el mundo, tanto en términos de las reglas que rigen el mundo como la información que va obtieniendo a cada paso. También debemos ejecutar razonamientos sobre esta información para crear un mapa mental y saber qué casillas son seguras, en dónde están los posos y el Wumpus. Finalmente, se debe implementar un proceso de toma de decisiones para priorizar algunas acciones sobre otras, por ejemplo, tomar el oro cuando se vea y dirigirse a la salida debe tener prioridad sobre cualquier otro tipo de planeación. Todo esto se encuentra por fuera del alcance de este taller.\n",
    "\n",
    "Presentamos a continuación un demo de un agente que se enfrenta, así sea muy tímidamente, al mundo del Wumpus:"
   ]
  },
  {
   "cell_type": "code",
   "execution_count": 24,
   "metadata": {},
   "outputs": [
    {
     "name": "stdout",
     "output_type": "stream",
     "text": [
      "¡Juego terminado!\n",
      "Puntaje: 971\n"
     ]
    },
    {
     "data": {
      "image/png": "[encoded data removed]",
      "text/plain": [
       "<Figure size 576x576 with 1 Axes>"
      ]
     },
     "metadata": {
      "needs_background": "light"
     },
     "output_type": "display_data"
    }
   ],
   "source": [
    "actualizar_codigos()\n",
    "cods = codigos(4, 4, 6, 50, 4)\n",
    "# Representación del mundo\n",
    "# Axioma del fluente TenerFlecha\n",
    "tenerFlecha0 = cods.F(0, 2)\n",
    "lista_formulas = formulas_brisa(cods) \n",
    "lista_formulas += formulas_hedor(cods)\n",
    "lista_formulas += formulas_segura(cods)\n",
    "lista_formulas.append(tenerFlecha0)\n",
    "# Se inicializa la base de conocimiento\n",
    "Base_wumpus = lp_query(lista_formulas, cods)\n",
    "# Se inicializa el mundo\n",
    "W = wumpus()\n",
    "plan = []\n",
    "turno = 0\n",
    "while W.juego_activo:# and (turno < 20):\n",
    "    clear_output(wait=True)\n",
    "    percept = W.percibir()\n",
    "    accion = hybrid_wumpus_agent(percept, \n",
    "                                 turno, \n",
    "                                 W.heroe, \n",
    "                                 W.direccion, \n",
    "                                 Base_wumpus,\n",
    "                                 plan\n",
    "                                )\n",
    "    W.transicion(accion)\n",
    "    W.pintar_casilla()\n",
    "    turno += 1\n",
    "    plt.show()\n",
    "    time.sleep(.75)"
   ]
  },
  {
   "cell_type": "markdown",
   "metadata": {},
   "source": [
    "## Referencias\n",
    "\n",
    "Russell, S. and Norvig, P., 2016. Artificial Intelligence: A Modern Approach. Pearson. Tercera edición. "
   ]
  }
 ],
 "metadata": {
  "colab": {
   "name": "arboles_busqueda.ipynb",
   "provenance": []
  },
  "kernelspec": {
   "display_name": "Python 3",
   "language": "python",
   "name": "python3"
  },
  "language_info": {
   "codemirror_mode": {
    "name": "ipython",
    "version": 3
   },
   "file_extension": ".py",
   "mimetype": "text/x-python",
   "name": "python",
   "nbconvert_exporter": "python",
   "pygments_lexer": "ipython3",
   "version": "3.9.1"
  }
 },
 "nbformat": 4,
 "nbformat_minor": 1
}
